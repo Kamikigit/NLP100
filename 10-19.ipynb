{
 "cells": [
  {
   "cell_type": "code",
   "execution_count": 8,
   "metadata": {},
   "outputs": [
    {
     "name": "stdout",
     "output_type": "stream",
     "text": [
      "2780\n"
     ]
    }
   ],
   "source": [
    "#10\n",
    "f = open('data/popular-names.txt', 'r', encoding='UTF-8')\n",
    "data = f.readlines()\n",
    "print(len(data))\n",
    "f.close()"
   ]
  },
  {
   "cell_type": "code",
   "execution_count": 7,
   "metadata": {},
   "outputs": [
    {
     "name": "stdout",
     "output_type": "stream",
     "text": [
      " 2780 11120 55026 popular-names.txt\n"
     ]
    }
   ],
   "source": [
    "!wc popular-names.txt"
   ]
  },
  {
   "cell_type": "code",
   "execution_count": 20,
   "metadata": {},
   "outputs": [],
   "source": [
    "#11\n",
    "with open('data/popular-names.txt', 'r') as f:\n",
    "    data = f.read()\n",
    "    data = data.replace(\"\\t\", \" \")\n",
    "    \n",
    "with open('data/result_11.txt', 'w') as f:\n",
    "    f.write(data)"
   ]
  },
  {
   "cell_type": "code",
   "execution_count": 21,
   "metadata": {},
   "outputs": [],
   "source": [
    "! sed 's/\\t/ /g' 'data/popular-names.txt' > 'data/result_11_compare.txt'"
   ]
  },
  {
   "cell_type": "code",
   "execution_count": 14,
   "metadata": {},
   "outputs": [],
   "source": [
    "#12\n",
    "def print_data(filename, data):\n",
    "    with open(filename, 'w') as f:\n",
    "        f.write(data)\n",
    "        \n",
    "col1 = []\n",
    "col2 = []\n",
    "with open('data/popular-names.txt', 'r') as f:\n",
    "    data = f.readlines()\n",
    "    col1 = [col.split()[0] for col in data]\n",
    "    col2 = [col.split()[1] for col in data]\n",
    "    \n",
    "print_data('data/col1.txt', ''.join(col1))\n",
    "print_data('data/col2.txt', ''.join(col2))"
   ]
  },
  {
   "cell_type": "code",
   "execution_count": null,
   "metadata": {},
   "outputs": [],
   "source": [
    "#13\n"
   ]
  }
 ],
 "metadata": {
  "kernelspec": {
   "display_name": "Python 3",
   "language": "python",
   "name": "python3"
  },
  "language_info": {
   "codemirror_mode": {
    "name": "ipython",
    "version": 3
   },
   "file_extension": ".py",
   "mimetype": "text/x-python",
   "name": "python",
   "nbconvert_exporter": "python",
   "pygments_lexer": "ipython3",
   "version": "3.7.6"
  }
 },
 "nbformat": 4,
 "nbformat_minor": 4
}
