{
  "nbformat": 4,
  "nbformat_minor": 0,
  "metadata": {
    "kernelspec": {
      "display_name": "Python 3",
      "language": "python",
      "name": "python3"
    },
    "language_info": {
      "codemirror_mode": {
        "name": "ipython",
        "version": 3
      },
      "file_extension": ".py",
      "mimetype": "text/x-python",
      "name": "python",
      "nbconvert_exporter": "python",
      "pygments_lexer": "ipython3",
      "version": "3.7.6"
    },
    "colab": {
      "name": "chapter1.ipynb",
      "provenance": [],
      "include_colab_link": true
    }
  },
  "cells": [
    {
      "cell_type": "markdown",
      "metadata": {
        "id": "view-in-github",
        "colab_type": "text"
      },
      "source": [
        "<a href=\"https://colab.research.google.com/github/Kamikigit/NLP100/blob/master/chapter1.ipynb\" target=\"_parent\"><img src=\"https://colab.research.google.com/assets/colab-badge.svg\" alt=\"Open In Colab\"/></a>"
      ]
    },
    {
      "cell_type": "code",
      "metadata": {
        "id": "GuqPD5oBiuIS",
        "outputId": "98693e94-7057-4d20-80ab-7b059c8b87b0"
      },
      "source": [
        "#00 文字列の逆順\n",
        "s = \"stressed\"\n",
        "print(s[::-1])"
      ],
      "execution_count": null,
      "outputs": [
        {
          "name": "stdout",
          "output_type": "stream",
          "text": [
            "desserts\n"
          ]
        }
      ]
    },
    {
      "cell_type": "code",
      "metadata": {
        "id": "sBGm7EMhiuIZ",
        "outputId": "5c5d66d5-af7b-4fa5-d628-22acd91d3e36"
      },
      "source": [
        "#01 「パタトクカシーー」\n",
        "s = \"パタトクカシーー\"\n",
        "print(s[1::2])"
      ],
      "execution_count": null,
      "outputs": [
        {
          "name": "stdout",
          "output_type": "stream",
          "text": [
            "タクシー\n"
          ]
        }
      ]
    },
    {
      "cell_type": "code",
      "metadata": {
        "id": "yS4DVRysiuIa",
        "outputId": "a47bf438-2411-4d52-c9f6-756df9beb59c"
      },
      "source": [
        "#02 「パトカー」＋「タクシー」＝「パタトクカシーー」\n",
        "s = \"パトカー\"\n",
        "s2 = \"タクシー\"\n",
        "ans = \"\"\n",
        "for i in range(len(s)):\n",
        "    ans += s[i]\n",
        "    ans += s2[i]\n",
        "print(ans)"
      ],
      "execution_count": null,
      "outputs": [
        {
          "name": "stdout",
          "output_type": "stream",
          "text": [
            "パタトクカシーー\n"
          ]
        }
      ]
    },
    {
      "cell_type": "code",
      "metadata": {
        "id": "2i0SNSYJiuIa",
        "outputId": "765fb289-e868-4569-9241-a3e146abffc2"
      },
      "source": [
        "#03　円周率\n",
        "s = \"Now I need a drink, alcoholic of course, after the heavy lectures involving quantum mechanics.\"\n",
        "s = s.replace(\",\", \"\").replace(\".\", \"\")\n",
        "s = [len(s) for s in s.split()]\n",
        "print(s)"
      ],
      "execution_count": null,
      "outputs": [
        {
          "name": "stdout",
          "output_type": "stream",
          "text": [
            "[3, 1, 4, 1, 5, 9, 2, 6, 5, 3, 5, 8, 9, 7, 9]\n"
          ]
        }
      ]
    },
    {
      "cell_type": "code",
      "metadata": {
        "id": "nidJZwlMiuIb",
        "outputId": "c2cf6bc6-5381-4a5b-97aa-287d29e3964d"
      },
      "source": [
        "#04　元素記号\n",
        "s = \"Hi He Lied Because Boron Could Not Oxidize Fluorine. New Nations Might Also Sign Peace Security Clause. Arthur King Can.\"\n",
        "n = [1, 5, 6, 7, 8, 9, 15, 16, 19]\n",
        "s = s.replace(\",\", \"\").replace(\".\", \"\")\n",
        "s = [ w for w in s.split()]\n",
        "dic = {}\n",
        "for i, w in enumerate(s):\n",
        "    if i+1 in n:\n",
        "        dic[i] = w[0]\n",
        "    else:\n",
        "        dic[i] = w[:2]\n",
        "        \n",
        "\n",
        "print(dic)"
      ],
      "execution_count": null,
      "outputs": [
        {
          "name": "stdout",
          "output_type": "stream",
          "text": [
            "{0: 'H', 1: 'He', 2: 'Li', 3: 'Be', 4: 'B', 5: 'C', 6: 'N', 7: 'O', 8: 'F', 9: 'Ne', 10: 'Na', 11: 'Mi', 12: 'Al', 13: 'Si', 14: 'P', 15: 'S', 16: 'Cl', 17: 'Ar', 18: 'K', 19: 'Ca'}\n"
          ]
        }
      ]
    },
    {
      "cell_type": "code",
      "metadata": {
        "id": "S5LLoTQtiuIc",
        "outputId": "48cde35e-8c69-4343-a577-7fb4f1b22587"
      },
      "source": [
        "#05 n-gram\n",
        "def n_gram(s, n):\n",
        "    n_gram = []\n",
        "    for i in range(len(s)-(n-1)):\n",
        "        n_gram.append(s[i:i+n])\n",
        "    return n_gram\n",
        "\n",
        "s = \"I am an NLPer\"\n",
        "bi_gram = n_gram(s.split(), 2)\n",
        "    \n",
        "print(bi_gram)"
      ],
      "execution_count": null,
      "outputs": [
        {
          "name": "stdout",
          "output_type": "stream",
          "text": [
            "[['I', 'am'], ['am', 'an'], ['an', 'NLPer']]\n"
          ]
        }
      ]
    },
    {
      "cell_type": "code",
      "metadata": {
        "id": "W98XEBl6iuId",
        "outputId": "0d43a624-ddb2-4abf-be43-285db4a0adae"
      },
      "source": [
        "#06 集合\n",
        "def n_gram(s, n):\n",
        "    n_gram = []\n",
        "    for i in range(len(s)-(n-1)):\n",
        "        n_gram.append(s[i:i+n])\n",
        "    return n_gram\n",
        "\n",
        "s1 = \"paraparaparadise\"\n",
        "s2 = \"paragraph\"\n",
        "X = set(n_gram(s1, 2))\n",
        "Y = set(n_gram(s2, 2))\n",
        "\n",
        "print(\"和集合\", X | Y)\n",
        "print(\"積集合\", X & Y)\n",
        "print(\"差集合\", X - Y)\n",
        "print(\"se\" in X and \"se\" in Y)"
      ],
      "execution_count": null,
      "outputs": [
        {
          "name": "stdout",
          "output_type": "stream",
          "text": [
            "和集合 {'ap', 'se', 'ph', 'di', 'is', 'ra', 'gr', 'ad', 'pa', 'ar', 'ag'}\n",
            "積集合 {'pa', 'ra', 'ap', 'ar'}\n",
            "差集合 {'ad', 'is', 'di', 'se'}\n",
            "False\n"
          ]
        }
      ]
    },
    {
      "cell_type": "code",
      "metadata": {
        "id": "RhLnesGsiuId",
        "outputId": "0b28b71c-5fbd-48dc-cfff-8d0f34d8042b"
      },
      "source": [
        "#07　テンプレートによる文生成\n",
        "def make_moji(x, y, z):\n",
        "    return f\"{x}時の{y}は{z}\"\n",
        "x = 12\n",
        "y = \"気温\"\n",
        "z = 22.4\n",
        "\n",
        "print(make_moji(x, y, z))"
      ],
      "execution_count": null,
      "outputs": [
        {
          "name": "stdout",
          "output_type": "stream",
          "text": [
            "12時の気温は22.4\n"
          ]
        }
      ]
    },
    {
      "cell_type": "code",
      "metadata": {
        "id": "VBNgpLaiiuIe",
        "outputId": "61d30bc0-5af7-438d-d30b-ba8cfd755ee8"
      },
      "source": [
        "# 08　暗号文\n",
        "def cipher(s):\n",
        "    ans = []\n",
        "    for i, w in enumerate(s):\n",
        "        if 97 <= ord(w) <= 122:\n",
        "            ans.append(chr(219 - ord(w)))\n",
        "        else:\n",
        "            ans.append(w)\n",
        "    return ''.join(ans)\n",
        "             \n",
        "print(cipher(\"I am an NLPer\"))\n",
        "print(cipher(\"I zn zm NLPvi\"))"
      ],
      "execution_count": null,
      "outputs": [
        {
          "name": "stdout",
          "output_type": "stream",
          "text": [
            "I zn zm NLPvi\n",
            "I am an NLPer\n"
          ]
        }
      ]
    },
    {
      "cell_type": "code",
      "metadata": {
        "id": "Z79uD9kGiuIf",
        "outputId": "8fef92d8-e925-4e98-875d-ba1d799738db"
      },
      "source": [
        "#09　Typoglycemia\n",
        "from random import shuffle\n",
        "s = \"I couldn’t believe that I could actually understand what I was reading : the phenomenal power of the human mind .\"\n",
        "s = s.replace(\":\", \"\").replace(\".\", \"\")\n",
        "s = s.split()\n",
        "ans = []\n",
        "for i in range(len(s)):\n",
        "    if len(s[i]) > 4:\n",
        "        s_middle = list(s[i][1:-1])\n",
        "        shuffle(s_middle)\n",
        "#         print(type(s[i][0]), type(s_middle))\n",
        "        ans.append(s[i][0] + ''.join(s_middle) + s[i][-1])\n",
        "    else:\n",
        "        ans.append(s[i])\n",
        "\n",
        "print(' '.join(ans))"
      ],
      "execution_count": null,
      "outputs": [
        {
          "name": "stdout",
          "output_type": "stream",
          "text": [
            "I cn’dlout bvlieee that I cuold auclatly undntesard what I was raendig the peahnemnol pwoer of the haumn mind\n"
          ]
        }
      ]
    },
    {
      "cell_type": "code",
      "metadata": {
        "id": "i0Q-OAhAiuIg"
      },
      "source": [
        ""
      ],
      "execution_count": null,
      "outputs": []
    }
  ]
}