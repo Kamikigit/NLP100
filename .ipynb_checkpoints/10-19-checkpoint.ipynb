{
 "cells": [
  {
   "cell_type": "code",
   "execution_count": 8,
   "metadata": {},
   "outputs": [
    {
     "name": "stdout",
     "output_type": "stream",
     "text": [
      "2780\n"
     ]
    }
   ],
   "source": [
    "#10\n",
    "f = open('data/popular-names.txt', 'r', encoding='UTF-8')\n",
    "data = f.readlines()\n",
    "print(len(data))\n",
    "f.close()"
   ]
  },
  {
   "cell_type": "code",
   "execution_count": 7,
   "metadata": {},
   "outputs": [
    {
     "name": "stdout",
     "output_type": "stream",
     "text": [
      " 2780 11120 55026 popular-names.txt\n"
     ]
    }
   ],
   "source": [
    "!wc popular-names.txt"
   ]
  },
  {
   "cell_type": "code",
   "execution_count": 20,
   "metadata": {},
   "outputs": [],
   "source": [
    "#11\n",
    "with open('data/popular-names.txt', 'r') as f:\n",
    "    data = f.read()\n",
    "    data = data.replace(\"\\t\", \" \")\n",
    "    \n",
    "with open('data/result_11.txt', 'w') as f:\n",
    "    f.write(data)"
   ]
  },
  {
   "cell_type": "code",
   "execution_count": 21,
   "metadata": {},
   "outputs": [],
   "source": [
    "! sed 's/\\t/ /g' 'data/popular-names.txt' > 'data/result_11_compare.txt'"
   ]
  },
  {
   "cell_type": "code",
   "execution_count": 23,
   "metadata": {},
   "outputs": [],
   "source": [
    "#12\n",
    "def print_data(filename, data):\n",
    "    with open(filename, 'w') as f:\n",
    "        f.write(data)\n",
    "        \n",
    "col1 = []\n",
    "col2 = []\n",
    "with open('data/popular-names.txt', 'r') as f:\n",
    "    data = f.readlines()\n",
    "    col1 = [col.split()[0] + '\\n' for col in data]\n",
    "    col2 = [col.split()[1] + '\\n' for col in data]\n",
    "    \n",
    "print_data('data/col1.txt', ''.join(col1))\n",
    "print_data('data/col2.txt', ''.join(col2))"
   ]
  },
  {
   "cell_type": "code",
   "execution_count": 28,
   "metadata": {},
   "outputs": [],
   "source": [
    "#13\n",
    "def read_data(filename):\n",
    "    with open(filename, 'r') as f:\n",
    "        data = f.read().split()\n",
    "    return data\n",
    "\n",
    "col1 = read_data('data/col1.txt')\n",
    "col2 = read_data('data/col2.txt')\n",
    "concat_data = []\n",
    "\n",
    "for i in range(len(col1)):\n",
    "    concat_data.append(col1[i] + '\\t')\n",
    "    concat_data.append(col2[i] + '\\n')\n",
    "    \n",
    "with open('data/result_13.txt', 'w') as f:\n",
    "    f.write(''.join(concat_data))"
   ]
  },
  {
   "cell_type": "code",
   "execution_count": 11,
   "metadata": {},
   "outputs": [],
   "source": [
    "!paste -d '\\t' data/col[1-2].txt > 'data/result_13_compare.txt'"
   ]
  },
  {
   "cell_type": "code",
   "execution_count": 7,
   "metadata": {},
   "outputs": [
    {
     "name": "stdin",
     "output_type": "stream",
     "text": [
      "行数を入力: 5\n"
     ]
    },
    {
     "name": "stdout",
     "output_type": "stream",
     "text": [
      "Mary\tF\t7065\t1880\n",
      "Anna\tF\t2604\t1880\n",
      "Emma\tF\t2003\t1880\n",
      "Elizabeth\tF\t1939\t1880\n",
      "Minnie\tF\t1746\t1880\n",
      "\n"
     ]
    }
   ],
   "source": [
    "#14\n",
    "n = int(input(\"行数を入力:\"))\n",
    "with open('data/popular-names.txt', 'r') as f:\n",
    "    data = f.readlines()\n",
    "print(''.join(data[:n]))"
   ]
  },
  {
   "cell_type": "code",
   "execution_count": 12,
   "metadata": {},
   "outputs": [
    {
     "name": "stdout",
     "output_type": "stream",
     "text": [
      "Mary\tF\t7065\t1880\n",
      "Anna\tF\t2604\t1880\n",
      "Emma\tF\t2003\t1880\n",
      "Elizabeth\tF\t1939\t1880\n",
      "Minnie\tF\t1746\t1880\n"
     ]
    }
   ],
   "source": [
    "!head -n 5 data/popular-names.txt"
   ]
  },
  {
   "cell_type": "code",
   "execution_count": null,
   "metadata": {},
   "outputs": [],
   "source": []
  }
 ],
 "metadata": {
  "kernelspec": {
   "display_name": "Python 3",
   "language": "python",
   "name": "python3"
  },
  "language_info": {
   "codemirror_mode": {
    "name": "ipython",
    "version": 3
   },
   "file_extension": ".py",
   "mimetype": "text/x-python",
   "name": "python",
   "nbconvert_exporter": "python",
   "pygments_lexer": "ipython3",
   "version": "3.7.6"
  }
 },
 "nbformat": 4,
 "nbformat_minor": 4
}
