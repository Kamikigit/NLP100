{
 "cells": [
  {
   "cell_type": "code",
   "execution_count": 4,
   "metadata": {},
   "outputs": [
    {
     "name": "stdout",
     "output_type": "stream",
     "text": [
      "desserts\n"
     ]
    }
   ],
   "source": [
    "#00\n",
    "s = \"stressed\"\n",
    "print(s[::-1])"
   ]
  },
  {
   "cell_type": "code",
   "execution_count": 5,
   "metadata": {},
   "outputs": [
    {
     "name": "stdout",
     "output_type": "stream",
     "text": [
      "タクシー\n"
     ]
    }
   ],
   "source": [
    "#01\n",
    "s = \"パタトクカシーー\"\n",
    "print(s[1::2])"
   ]
  },
  {
   "cell_type": "code",
   "execution_count": 15,
   "metadata": {},
   "outputs": [
    {
     "name": "stdout",
     "output_type": "stream",
     "text": [
      "パタトクカシーー\n"
     ]
    }
   ],
   "source": [
    "#02\n",
    "s = \"パトカー\"\n",
    "s2 = \"タクシー\"\n",
    "ans = \"\"\n",
    "for i in range(len(s)):\n",
    "    ans += s[i]\n",
    "    ans += s2[i]\n",
    "print(ans)"
   ]
  },
  {
   "cell_type": "code",
   "execution_count": 31,
   "metadata": {},
   "outputs": [
    {
     "name": "stdout",
     "output_type": "stream",
     "text": [
      "[3, 1, 4, 1, 5, 9, 2, 6, 5, 3, 5, 8, 9, 7, 9]\n"
     ]
    }
   ],
   "source": [
    "#03\n",
    "s = \"Now I need a drink, alcoholic of course, after the heavy lectures involving quantum mechanics.\"\n",
    "s = s.replace(\",\", \"\").replace(\".\", \"\")\n",
    "s = [len(s) for s in s.split()]\n",
    "print(s)"
   ]
  },
  {
   "cell_type": "code",
   "execution_count": 7,
   "metadata": {},
   "outputs": [
    {
     "name": "stdout",
     "output_type": "stream",
     "text": [
      "{0: 'H', 1: 'He', 2: 'Li', 3: 'Be', 4: 'B', 5: 'C', 6: 'N', 7: 'O', 8: 'F', 9: 'Ne', 10: 'Na', 11: 'Mi', 12: 'Al', 13: 'Si', 14: 'P', 15: 'S', 16: 'Cl', 17: 'Ar', 18: 'K', 19: 'Ca'}\n"
     ]
    }
   ],
   "source": [
    "#04\n",
    "s = \"Hi He Lied Because Boron Could Not Oxidize Fluorine. New Nations Might Also Sign Peace Security Clause. Arthur King Can.\"\n",
    "n = [1, 5, 6, 7, 8, 9, 15, 16, 19]\n",
    "s = s.replace(\",\", \"\").replace(\".\", \"\")\n",
    "s = [ w for w in s.split()]\n",
    "dic = {}\n",
    "for i, w in enumerate(s):\n",
    "    if i+1 in n:\n",
    "        dic[i] = w[0]\n",
    "    else:\n",
    "        dic[i] = w[:2]\n",
    "        \n",
    "\n",
    "print(dic)"
   ]
  },
  {
   "cell_type": "code",
   "execution_count": 27,
   "metadata": {},
   "outputs": [
    {
     "name": "stdout",
     "output_type": "stream",
     "text": [
      "[['I', 'am'], ['am', 'an'], ['an', 'NLPer']]\n"
     ]
    }
   ],
   "source": [
    "#05\n",
    "def n_gram(s, n):\n",
    "    n_gram = []\n",
    "    for i in range(len(s)-(n-1)):\n",
    "        n_gram.append(s[i:i+n])\n",
    "    return n_gram\n",
    "\n",
    "s = \"I am an NLPer\"\n",
    "bi_gram = n_gram(s.split(), 2)\n",
    "    \n",
    "print(bi_gram)"
   ]
  },
  {
   "cell_type": "code",
   "execution_count": 31,
   "metadata": {},
   "outputs": [
    {
     "name": "stdout",
     "output_type": "stream",
     "text": [
      "和集合 {'ap', 'se', 'ph', 'di', 'is', 'ra', 'gr', 'ad', 'pa', 'ar', 'ag'}\n",
      "積集合 {'pa', 'ra', 'ap', 'ar'}\n",
      "差集合 {'ad', 'is', 'di', 'se'}\n",
      "False\n"
     ]
    }
   ],
   "source": [
    "#06\n",
    "def n_gram(s, n):\n",
    "    n_gram = []\n",
    "    for i in range(len(s)-(n-1)):\n",
    "        n_gram.append(s[i:i+n])\n",
    "    return n_gram\n",
    "\n",
    "s1 = \"paraparaparadise\"\n",
    "s2 = \"paragraph\"\n",
    "X = set(n_gram(s1, 2))\n",
    "Y = set(n_gram(s2, 2))\n",
    "\n",
    "print(\"和集合\", X | Y)\n",
    "print(\"積集合\", X & Y)\n",
    "print(\"差集合\", X - Y)\n",
    "print(\"se\" in X and \"se\" in Y)"
   ]
  },
  {
   "cell_type": "code",
   "execution_count": 32,
   "metadata": {},
   "outputs": [
    {
     "name": "stdout",
     "output_type": "stream",
     "text": [
      "12時の気温は22.4\n"
     ]
    }
   ],
   "source": [
    "#07\n",
    "def make_moji(x, y, z):\n",
    "    return f\"{x}時の{y}は{z}\"\n",
    "x = 12\n",
    "y = \"気温\"\n",
    "z = 22.4\n",
    "\n",
    "print(make_moji(x, y, z))"
   ]
  },
  {
   "cell_type": "code",
   "execution_count": 17,
   "metadata": {},
   "outputs": [
    {
     "name": "stdout",
     "output_type": "stream",
     "text": [
      "I zn zm NLPvi\n",
      "I am an NLPer\n"
     ]
    }
   ],
   "source": [
    "# 08\n",
    "def cipher(s):\n",
    "    ans = []\n",
    "    for i, w in enumerate(s):\n",
    "        if 97 <= ord(w) <= 122:\n",
    "            ans.append(chr(219 - ord(w)))\n",
    "        else:\n",
    "            ans.append(w)\n",
    "    return ''.join(ans)\n",
    "             \n",
    "print(cipher(\"I am an NLPer\"))\n",
    "print(cipher(\"I zn zm NLPvi\"))"
   ]
  },
  {
   "cell_type": "code",
   "execution_count": 74,
   "metadata": {},
   "outputs": [
    {
     "name": "stdout",
     "output_type": "stream",
     "text": [
      "I cn’dlout bvlieee that I cuold auclatly undntesard what I was raendig the peahnemnol pwoer of the haumn mind\n"
     ]
    }
   ],
   "source": [
    "#09\n",
    "from random import shuffle\n",
    "s = \"I couldn’t believe that I could actually understand what I was reading : the phenomenal power of the human mind .\"\n",
    "s = s.replace(\":\", \"\").replace(\".\", \"\")\n",
    "s = s.split()\n",
    "ans = []\n",
    "for i in range(len(s)):\n",
    "    if len(s[i]) > 4:\n",
    "        s_middle = list(s[i][1:-1])\n",
    "        shuffle(s_middle)\n",
    "#         print(type(s[i][0]), type(s_middle))\n",
    "        ans.append(s[i][0] + ''.join(s_middle) + s[i][-1])\n",
    "    else:\n",
    "        ans.append(s[i])\n",
    "\n",
    "print(' '.join(ans))"
   ]
  },
  {
   "cell_type": "code",
   "execution_count": null,
   "metadata": {},
   "outputs": [],
   "source": []
  }
 ],
 "metadata": {
  "kernelspec": {
   "display_name": "Python 3",
   "language": "python",
   "name": "python3"
  },
  "language_info": {
   "codemirror_mode": {
    "name": "ipython",
    "version": 3
   },
   "file_extension": ".py",
   "mimetype": "text/x-python",
   "name": "python",
   "nbconvert_exporter": "python",
   "pygments_lexer": "ipython3",
   "version": "3.7.6"
  }
 },
 "nbformat": 4,
 "nbformat_minor": 4
}
